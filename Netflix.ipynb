{
 "cells": [
  {
   "cell_type": "markdown",
   "id": "36b5eb82-fd27-4854-b2d5-7f9ad851b534",
   "metadata": {},
   "source": [
    "## Import Libraries"
   ]
  },
  {
   "cell_type": "code",
   "execution_count": null,
   "id": "289a20ff-afb1-4af8-8299-bdec017549bc",
   "metadata": {},
   "outputs": [],
   "source": [
    "#import libraries\n",
    "import pandas as pd\n",
    "import numpy as np\n",
    "import matplotlib.pyplot as plt\n",
    "import seaborn as sns\n",
    "from worldcloud import WorldCloud"
   ]
  },
  {
   "cell_type": "code",
   "execution_count": 4,
   "id": "7cc5b2ff-80d4-4191-9eb0-4f1392a0b583",
   "metadata": {},
   "outputs": [
    {
     "name": "stdout",
     "output_type": "stream",
     "text": [
      "  show_id     type                             title         director  \\\n",
      "0      s1    Movie              Dick Johnson Is Dead  Kirsten Johnson   \n",
      "1      s3  TV Show                         Ganglands  Julien Leclercq   \n",
      "2      s6  TV Show                     Midnight Mass    Mike Flanagan   \n",
      "3     s14    Movie  Confessions of an Invisible Girl    Bruno Garotti   \n",
      "4      s8    Movie                           Sankofa     Haile Gerima   \n",
      "\n",
      "         country date_added  release_year rating  duration  \\\n",
      "0  United States  9/25/2021          2020  PG-13    90 min   \n",
      "1         France  9/24/2021          2021  TV-MA  1 Season   \n",
      "2  United States  9/24/2021          2021  TV-MA  1 Season   \n",
      "3         Brazil  9/22/2021          2021  TV-PG    91 min   \n",
      "4  United States  9/24/2021          1993  TV-MA   125 min   \n",
      "\n",
      "                                           listed_in  \n",
      "0                                      Documentaries  \n",
      "1  Crime TV Shows, International TV Shows, TV Act...  \n",
      "2                 TV Dramas, TV Horror, TV Mysteries  \n",
      "3                 Children & Family Movies, Comedies  \n",
      "4   Dramas, Independent Movies, International Movies  \n"
     ]
    }
   ],
   "source": [
    "#load the dataset\n",
    "data=pd.read_csv('netflix1.csv')\n",
    "\n",
    "#Display first five rows \n",
    "print(data.head())\n",
    "\n"
   ]
  },
  {
   "cell_type": "markdown",
   "id": "279bd1b9-4405-4297-8886-9b5c203a175b",
   "metadata": {},
   "source": [
    "## DATA CLEANING"
   ]
  },
  {
   "cell_type": "code",
   "execution_count": 5,
   "id": "6df71171-4d7c-42c9-8dda-1f89cd22bb4c",
   "metadata": {},
   "outputs": [
    {
     "name": "stdout",
     "output_type": "stream",
     "text": [
      "<bound method DataFrame.sum of       show_id   type  title  director  country  date_added  release_year  \\\n",
      "0       False  False  False     False    False       False         False   \n",
      "1       False  False  False     False    False       False         False   \n",
      "2       False  False  False     False    False       False         False   \n",
      "3       False  False  False     False    False       False         False   \n",
      "4       False  False  False     False    False       False         False   \n",
      "...       ...    ...    ...       ...      ...         ...           ...   \n",
      "8785    False  False  False     False    False       False         False   \n",
      "8786    False  False  False     False    False       False         False   \n",
      "8787    False  False  False     False    False       False         False   \n",
      "8788    False  False  False     False    False       False         False   \n",
      "8789    False  False  False     False    False       False         False   \n",
      "\n",
      "      rating  duration  listed_in  \n",
      "0      False     False      False  \n",
      "1      False     False      False  \n",
      "2      False     False      False  \n",
      "3      False     False      False  \n",
      "4      False     False      False  \n",
      "...      ...       ...        ...  \n",
      "8785   False     False      False  \n",
      "8786   False     False      False  \n",
      "8787   False     False      False  \n",
      "8788   False     False      False  \n",
      "8789   False     False      False  \n",
      "\n",
      "[8790 rows x 10 columns]>\n"
     ]
    }
   ],
   "source": [
    "#check for the missing values\n",
    "print(data.isnull().sum)"
   ]
  },
  {
   "cell_type": "code",
   "execution_count": 7,
   "id": "40258c5b-817b-4607-8e28-2c032a795842",
   "metadata": {},
   "outputs": [],
   "source": [
    "#Drop duplicates if any\n",
    "data.drop_duplicates(inplace=True)"
   ]
  },
  {
   "cell_type": "code",
   "execution_count": 14,
   "id": "4aef954e-448e-4d77-a0d0-76ee368a2766",
   "metadata": {},
   "outputs": [],
   "source": [
    "#drop rows with missing information\n",
    "data.dropna(subset=['director','type','title','country'],inplace=True)"
   ]
  },
  {
   "cell_type": "code",
   "execution_count": 16,
   "id": "79ca2147-575c-4ec4-8726-795d9009eaaa",
   "metadata": {},
   "outputs": [
    {
     "name": "stdout",
     "output_type": "stream",
     "text": [
      "show_id                 object\n",
      "type                    object\n",
      "title                   object\n",
      "director                object\n",
      "country                 object\n",
      "date_added              object\n",
      "release_year             int64\n",
      "rating                  object\n",
      "duration                object\n",
      "listed_in               object\n",
      "date-added      datetime64[ns]\n",
      "dtype: object\n"
     ]
    }
   ],
   "source": [
    "#convert 'date_added' to datetime\n",
    "data['date-added']=pd.to_datetime(data['date_added'])\n",
    "print(data.dtypes)"
   ]
  },
  {
   "cell_type": "markdown",
   "id": "6229b723-5eff-4398-89c5-270e92b78c39",
   "metadata": {},
   "source": [
    "## Exploratory Data Analysis"
   ]
  },
  {
   "cell_type": "markdown",
   "id": "75e94a04-8f59-4e53-b6c6-e1c1d9d06b42",
   "metadata": {},
   "source": [
    "### Count the number of movies and TV shows"
   ]
  },
  {
   "cell_type": "code",
   "execution_count": 18,
   "id": "ae8b622d-b8aa-49df-b366-ab84924b9dc8",
   "metadata": {},
   "outputs": [],
   "source": [
    "type_counts=data['type'].value_counts()"
   ]
  },
  {
   "cell_type": "code",
   "execution_count": 19,
   "id": "b0f2dfc1-d560-41e3-908e-9b15da042e19",
   "metadata": {},
   "outputs": [
    {
     "data": {
      "text/plain": [
       "<Figure size 800x600 with 0 Axes>"
      ]
     },
     "execution_count": 19,
     "metadata": {},
     "output_type": "execute_result"
    },
    {
     "data": {
      "text/plain": [
       "<Figure size 800x600 with 0 Axes>"
      ]
     },
     "metadata": {},
     "output_type": "display_data"
    }
   ],
   "source": [
    "#plot Distrubution\n",
    "plt.figure(figsize=(8,6))"
   ]
  },
  {
   "cell_type": "code",
   "execution_count": 25,
   "id": "1845c4f8-65d3-49ec-b9df-8031d8a51fd1",
   "metadata": {},
   "outputs": [
    {
     "name": "stderr",
     "output_type": "stream",
     "text": [
      "C:\\Users\\User\\AppData\\Local\\Temp\\ipykernel_10740\\2090629617.py:1: FutureWarning: \n",
      "\n",
      "Passing `palette` without assigning `hue` is deprecated and will be removed in v0.14.0. Assign the `x` variable to `hue` and set `legend=False` for the same effect.\n",
      "\n",
      "  sns.barplot(x=type_counts.index,y=type_counts.values,palette='Set2')\n"
     ]
    },
    {
     "data": {
      "image/png": "[encoded data removed]",
      "text/plain": [
       "<Figure size 640x480 with 1 Axes>"
      ]
     },
     "metadata": {},
     "output_type": "display_data"
    }
   ],
   "source": [
    "sns.barplot(x=type_counts.index,y=type_counts.values,palette='Set2')\n",
    "plt.title('Distrubtion of content by type')\n",
    "plt.xlabel('Type')\n",
    "plt.ylabel('count')\n",
    "plt.show()"
   ]
  },
  {
   "cell_type": "code",
   "execution_count": null,
   "id": "741e781f-5a0a-4819-9706-7a95f0f6bd40",
   "metadata": {},
   "outputs": [],
   "source": []
  },
  {
   "cell_type": "code",
   "execution_count": null,
   "id": "e49ddfd6-0bd4-4a2c-a2b4-ba63bd1eeb87",
   "metadata": {},
   "outputs": [],
   "source": []
  },
  {
   "cell_type": "code",
   "execution_count": null,
   "id": "5b3ad484-21a8-4a79-b162-b337271b397c",
   "metadata": {},
   "outputs": [],
   "source": []
  },
  {
   "cell_type": "code",
   "execution_count": null,
   "id": "36ad422e-635d-482a-8407-d539e0f5b456",
   "metadata": {},
   "outputs": [],
   "source": []
  },
  {
   "cell_type": "code",
   "execution_count": null,
   "id": "51439310-cccd-4aac-a650-b51b39e61498",
   "metadata": {},
   "outputs": [],
   "source": []
  },
  {
   "cell_type": "code",
   "execution_count": null,
   "id": "6ea97bf5-a66a-40ec-895e-f4104e1ed496",
   "metadata": {},
   "outputs": [],
   "source": []
  },
  {
   "cell_type": "code",
   "execution_count": null,
   "id": "a399c6e3-0125-4220-842d-fcfce2e56630",
   "metadata": {},
   "outputs": [],
   "source": []
  }
 ],
 "metadata": {
  "kernelspec": {
   "display_name": "Python 3 (ipykernel)",
   "language": "python",
   "name": "python3"
  },
  "language_info": {
   "codemirror_mode": {
    "name": "ipython",
    "version": 3
   },
   "file_extension": ".py",
   "mimetype": "text/x-python",
   "name": "python",
   "nbconvert_exporter": "python",
   "pygments_lexer": "ipython3",
   "version": "3.12.4"
  }
 },
 "nbformat": 4,
 "nbformat_minor": 5
}
